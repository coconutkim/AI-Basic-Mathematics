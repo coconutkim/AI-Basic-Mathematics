{
 "cells": [
  {
   "cell_type": "code",
   "execution_count": 1,
   "metadata": {},
   "outputs": [],
   "source": [
    "import pandas as pd\n",
    "import numpy as np"
   ]
  },
  {
   "cell_type": "code",
   "execution_count": 3,
   "metadata": {},
   "outputs": [
    {
     "data": {
      "text/html": [
       "<div>\n",
       "<style scoped>\n",
       "    .dataframe tbody tr th:only-of-type {\n",
       "        vertical-align: middle;\n",
       "    }\n",
       "\n",
       "    .dataframe tbody tr th {\n",
       "        vertical-align: top;\n",
       "    }\n",
       "\n",
       "    .dataframe thead th {\n",
       "        text-align: right;\n",
       "    }\n",
       "</style>\n",
       "<table border=\"1\" class=\"dataframe\">\n",
       "  <thead>\n",
       "    <tr style=\"text-align: right;\">\n",
       "      <th></th>\n",
       "      <th>집계년도</th>\n",
       "      <th>시군명</th>\n",
       "      <th>시군코드</th>\n",
       "      <th>관리기관명</th>\n",
       "      <th>단속일시정보</th>\n",
       "      <th>단속장소</th>\n",
       "      <th>단속방법</th>\n",
       "      <th>데이터기준일자</th>\n",
       "    </tr>\n",
       "  </thead>\n",
       "  <tbody>\n",
       "    <tr>\n",
       "      <th>0</th>\n",
       "      <td>2022</td>\n",
       "      <td>고양시</td>\n",
       "      <td>41280</td>\n",
       "      <td>고양시 덕양구청</td>\n",
       "      <td>2022-02-23 15:15</td>\n",
       "      <td>향동로</td>\n",
       "      <td>PDA</td>\n",
       "      <td>2024-06-04</td>\n",
       "    </tr>\n",
       "    <tr>\n",
       "      <th>1</th>\n",
       "      <td>2022</td>\n",
       "      <td>고양시</td>\n",
       "      <td>41280</td>\n",
       "      <td>고양시 덕양구청</td>\n",
       "      <td>2022-02-18 15:25</td>\n",
       "      <td>향동로</td>\n",
       "      <td>PDA</td>\n",
       "      <td>2024-06-04</td>\n",
       "    </tr>\n",
       "    <tr>\n",
       "      <th>2</th>\n",
       "      <td>2022</td>\n",
       "      <td>고양시</td>\n",
       "      <td>41280</td>\n",
       "      <td>고양시 덕양구청</td>\n",
       "      <td>2022-02-18 15:27</td>\n",
       "      <td>향동로</td>\n",
       "      <td>PDA</td>\n",
       "      <td>2024-06-04</td>\n",
       "    </tr>\n",
       "    <tr>\n",
       "      <th>3</th>\n",
       "      <td>2022</td>\n",
       "      <td>고양시</td>\n",
       "      <td>41280</td>\n",
       "      <td>고양시 덕양구청</td>\n",
       "      <td>2022-02-23 15:12</td>\n",
       "      <td>향동로</td>\n",
       "      <td>PDA</td>\n",
       "      <td>2024-06-04</td>\n",
       "    </tr>\n",
       "    <tr>\n",
       "      <th>4</th>\n",
       "      <td>2022</td>\n",
       "      <td>고양시</td>\n",
       "      <td>41280</td>\n",
       "      <td>고양시 덕양구청</td>\n",
       "      <td>2022-02-23 15:14</td>\n",
       "      <td>향동로</td>\n",
       "      <td>PDA</td>\n",
       "      <td>2024-06-04</td>\n",
       "    </tr>\n",
       "    <tr>\n",
       "      <th>...</th>\n",
       "      <td>...</td>\n",
       "      <td>...</td>\n",
       "      <td>...</td>\n",
       "      <td>...</td>\n",
       "      <td>...</td>\n",
       "      <td>...</td>\n",
       "      <td>...</td>\n",
       "      <td>...</td>\n",
       "    </tr>\n",
       "    <tr>\n",
       "      <th>234744</th>\n",
       "      <td>2022</td>\n",
       "      <td>고양시</td>\n",
       "      <td>41280</td>\n",
       "      <td>고양시 일산서구청</td>\n",
       "      <td>2022-12-31 17:19</td>\n",
       "      <td>SP-7518 우리은행 일산중앙지점 앞</td>\n",
       "      <td>고정형CCTV</td>\n",
       "      <td>2024-06-04</td>\n",
       "    </tr>\n",
       "    <tr>\n",
       "      <th>234745</th>\n",
       "      <td>2022</td>\n",
       "      <td>고양시</td>\n",
       "      <td>41280</td>\n",
       "      <td>고양시 일산서구청</td>\n",
       "      <td>2022-12-31 17:23</td>\n",
       "      <td>2033번지 소화전주변</td>\n",
       "      <td>시민신고웹</td>\n",
       "      <td>2024-06-04</td>\n",
       "    </tr>\n",
       "    <tr>\n",
       "      <th>234746</th>\n",
       "      <td>2022</td>\n",
       "      <td>고양시</td>\n",
       "      <td>41280</td>\n",
       "      <td>고양시 일산서구청</td>\n",
       "      <td>2022-12-31 17:39</td>\n",
       "      <td>P-7527 주엽119안전센터 후문</td>\n",
       "      <td>고정형CCTV</td>\n",
       "      <td>2024-06-04</td>\n",
       "    </tr>\n",
       "    <tr>\n",
       "      <th>234747</th>\n",
       "      <td>2022</td>\n",
       "      <td>고양시</td>\n",
       "      <td>41280</td>\n",
       "      <td>고양시 일산서구청</td>\n",
       "      <td>2022-12-31 17:44</td>\n",
       "      <td>P-7527 주엽119안전센터 후문</td>\n",
       "      <td>고정형CCTV</td>\n",
       "      <td>2024-06-04</td>\n",
       "    </tr>\n",
       "    <tr>\n",
       "      <th>234748</th>\n",
       "      <td>2022</td>\n",
       "      <td>고양시</td>\n",
       "      <td>41280</td>\n",
       "      <td>고양시 일산서구청</td>\n",
       "      <td>2022-12-31 23:06</td>\n",
       "      <td>1876번지 모퉁이주변</td>\n",
       "      <td>시민신고웹</td>\n",
       "      <td>2024-06-04</td>\n",
       "    </tr>\n",
       "  </tbody>\n",
       "</table>\n",
       "<p>234749 rows × 8 columns</p>\n",
       "</div>"
      ],
      "text/plain": [
       "        집계년도  시군명   시군코드      관리기관명             단속일시정보                   단속장소  \\\n",
       "0       2022  고양시  41280   고양시 덕양구청   2022-02-23 15:15                    향동로   \n",
       "1       2022  고양시  41280   고양시 덕양구청   2022-02-18 15:25                    향동로   \n",
       "2       2022  고양시  41280   고양시 덕양구청   2022-02-18 15:27                    향동로   \n",
       "3       2022  고양시  41280   고양시 덕양구청   2022-02-23 15:12                    향동로   \n",
       "4       2022  고양시  41280   고양시 덕양구청   2022-02-23 15:14                    향동로   \n",
       "...      ...  ...    ...        ...                ...                    ...   \n",
       "234744  2022  고양시  41280  고양시 일산서구청   2022-12-31 17:19  SP-7518 우리은행 일산중앙지점 앞   \n",
       "234745  2022  고양시  41280  고양시 일산서구청   2022-12-31 17:23           2033번지 소화전주변   \n",
       "234746  2022  고양시  41280  고양시 일산서구청   2022-12-31 17:39    P-7527 주엽119안전센터 후문   \n",
       "234747  2022  고양시  41280  고양시 일산서구청   2022-12-31 17:44    P-7527 주엽119안전센터 후문   \n",
       "234748  2022  고양시  41280  고양시 일산서구청   2022-12-31 23:06           1876번지 모퉁이주변   \n",
       "\n",
       "           단속방법     데이터기준일자  \n",
       "0           PDA  2024-06-04  \n",
       "1           PDA  2024-06-04  \n",
       "2           PDA  2024-06-04  \n",
       "3           PDA  2024-06-04  \n",
       "4           PDA  2024-06-04  \n",
       "...         ...         ...  \n",
       "234744  고정형CCTV  2024-06-04  \n",
       "234745    시민신고웹  2024-06-04  \n",
       "234746  고정형CCTV  2024-06-04  \n",
       "234747  고정형CCTV  2024-06-04  \n",
       "234748    시민신고웹  2024-06-04  \n",
       "\n",
       "[234749 rows x 8 columns]"
      ]
     },
     "execution_count": 3,
     "metadata": {},
     "output_type": "execute_result"
    }
   ],
   "source": [
    "pd.read_csv('C:/ex/data/경기도 고양시_주정차위반단속위치현황_20240604.csv',encoding='cp949')"
   ]
  },
  {
   "cell_type": "code",
   "execution_count": 4,
   "metadata": {},
   "outputs": [],
   "source": [
    "badcar = pd.read_csv('C:/ex/data/경기도 고양시_주정차위반단속위치현황_20240604.csv',encoding='cp949')"
   ]
  },
  {
   "cell_type": "code",
   "execution_count": 7,
   "metadata": {},
   "outputs": [
    {
     "data": {
      "text/plain": [
       "array(['고양시 덕양구청', '고양시 일산동구청', '고양시 일산서구청'], dtype=object)"
      ]
     },
     "execution_count": 7,
     "metadata": {},
     "output_type": "execute_result"
    }
   ],
   "source": [
    "badcar['관리기관명'].unique()"
   ]
  },
  {
   "cell_type": "code",
   "execution_count": 8,
   "metadata": {},
   "outputs": [
    {
     "data": {
      "text/plain": [
       "관리기관명\n",
       "고양시 덕양구청     100636\n",
       "고양시 일산동구청     76811\n",
       "고양시 일산서구청     57302\n",
       "Name: count, dtype: int64"
      ]
     },
     "execution_count": 8,
     "metadata": {},
     "output_type": "execute_result"
    }
   ],
   "source": [
    "badcar['관리기관명'].value_counts()\n",
    "# 덕양구 165.5 km²\n",
    "# 일산동구 \t59.1km2\n",
    "# 일산서구 42.6 km2"
   ]
  },
  {
   "cell_type": "code",
   "execution_count": null,
   "metadata": {},
   "outputs": [],
   "source": []
  }
 ],
 "metadata": {
  "kernelspec": {
   "display_name": "base",
   "language": "python",
   "name": "python3"
  },
  "language_info": {
   "codemirror_mode": {
    "name": "ipython",
    "version": 3
   },
   "file_extension": ".py",
   "mimetype": "text/x-python",
   "name": "python",
   "nbconvert_exporter": "python",
   "pygments_lexer": "ipython3",
   "version": "3.12.4"
  }
 },
 "nbformat": 4,
 "nbformat_minor": 2
}

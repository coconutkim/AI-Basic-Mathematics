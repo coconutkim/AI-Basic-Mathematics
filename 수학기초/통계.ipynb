{
 "cells": [
  {
   "cell_type": "markdown",
   "metadata": {},
   "source": []
  },
  {
   "cell_type": "markdown",
   "metadata": {},
   "source": [
    "## 통계학 statistics\n",
    "\n",
    "통계학은 관찰 및 조사로 얻을 수 있는 데이터로부터, 응용 수학의 기법을 이용해 수치상의 성질, 규칙성 또는 불규칙성을 찾아낸다. 통계적 기법은, 실험 계획, 데이터의 요약이나 해석을 실시하는데 있어서의 근거를 제공하는 학문이며, 폭넓은 분야에서 응용되어 실생활에 적용되고 있다."
   ]
  },
  {
   "cell_type": "markdown",
   "metadata": {},
   "source": [
    "ai학과 = 컴퓨터학과 + 통계학과"
   ]
  },
  {
   "cell_type": "markdown",
   "metadata": {},
   "source": [
    "기술 = describe, data 서술 // 루트 분산 = 표준 편차\n",
    "\n",
    "*분산이 상당히 중요한 요소다\n",
    "\n",
    "*평균: 데이터를 설명하는 대표값\n",
    "\n",
    "추론(추정 estimate)\n",
    "\n",
    "--> 모집단 population에서 샘플을 추출하여 예측한다"
   ]
  },
  {
   "cell_type": "markdown",
   "metadata": {},
   "source": []
  }
 ],
 "metadata": {
  "kernelspec": {
   "display_name": "base",
   "language": "python",
   "name": "python3"
  },
  "language_info": {
   "codemirror_mode": {
    "name": "ipython",
    "version": 3
   },
   "file_extension": ".py",
   "mimetype": "text/x-python",
   "name": "python",
   "nbconvert_exporter": "python",
   "pygments_lexer": "ipython3",
   "version": "3.12.4"
  }
 },
 "nbformat": 4,
 "nbformat_minor": 2
}
